{
 "cells": [
  {
   "cell_type": "markdown",
   "metadata": {
    "colab_type": "text",
    "id": "view-in-github"
   },
   "source": [
    "<a href=\"https://colab.research.google.com/github/fourfeatherz/DS2002F24/blob/main/Labs/Pandas_and_CSV_Hands_On.ipynb\" target=\"_parent\"><img src=\"https://colab.research.google.com/assets/colab-badge.svg\" alt=\"Open In Colab\"/></a>"
   ]
  },
  {
   "cell_type": "markdown",
   "metadata": {
    "id": "pBgcnTfZ7C3Q"
   },
   "source": [
    " **Loading the Data (CSV Files)**\n",
    "We'll start by loading the two CSV files into pandas DataFrames."
   ]
  },
  {
   "cell_type": "code",
   "execution_count": null,
   "metadata": {
    "id": "w2wGMa_H4bcy"
   },
   "outputs": [],
   "source": [
    "\n",
    "import pandas as pd\n",
    "\n",
    "# Load the regular season and playoff data (semicolon-separated and encoding handled)\n",
    "regular_season_df = pd.read_csv(\"C:\\Users\\Brian\\Downloads\\ds2002-labs\\2023-2024 NBA Player Stats - Regular.csv\", sep=';', encoding='latin1')\n",
    "playoffs_df = pd.read_csv(\"C:\\Users\\Brian\\Downloads\\ds2002-labs\\2023-2024 NBA Player Stats - Playoffs.csv\", sep=';', encoding='latin1')\n",
    "\n",
    "# Display the first few rows of each dataset\n",
    "print(\"Regular Season Stats:\")\n",
    "regular_season_df.head()\n",
    "\n",
    "print(\"\\nPlayoff Stats:\")\n",
    "playoffs_df.head()\n",
    "\n",
    "\n"
   ]
  },
  {
   "cell_type": "code",
   "execution_count": null,
   "metadata": {
    "id": "88HsX7rm68_P"
   },
   "outputs": [],
   "source": [
    "print(\"\\nPlayoff Stats:\")\n",
    "playoffs_df.head()"
   ]
  },
  {
   "cell_type": "markdown",
   "metadata": {
    "id": "3k1sa-Gm7esW"
   },
   "source": [
    "**Exploring the Data**"
   ]
  },
  {
   "cell_type": "code",
   "execution_count": null,
   "metadata": {
    "id": "FeIsFsiX7f_m"
   },
   "outputs": [],
   "source": [
    "# Get basic information about the datasets\n",
    "print(\"Regular Season Data Info:\")\n",
    "regular_season_df.info()\n",
    "\n",
    "print(\"\\nPlayoff Data Info:\")\n",
    "playoffs_df.info()\n",
    "\n",
    "\n"
   ]
  },
  {
   "cell_type": "code",
   "execution_count": null,
   "metadata": {
    "id": "PYezvFvr7yiE"
   },
   "outputs": [],
   "source": [
    "# Check for missing values\n",
    "print(\"\\nMissing Values in Regular Season Data:\")\n",
    "regular_season_df.isnull().sum()\n"
   ]
  },
  {
   "cell_type": "code",
   "execution_count": null,
   "metadata": {
    "id": "HgdVUx1k71T-"
   },
   "outputs": [],
   "source": [
    "\n",
    "print(\"\\nMissing Values in Playoff Data:\")\n",
    "print(playoffs_df.isnull().sum())\n"
   ]
  },
  {
   "cell_type": "code",
   "execution_count": null,
   "metadata": {
    "id": "ih7xMVzH72cv"
   },
   "outputs": [],
   "source": [
    "\n",
    "# Get statistical summaries of the data\n",
    "print(\"\\nStatistical Summary (Regular Season):\")\n",
    "#print(regular_season_df.describe())\n",
    "regular_season_df.describe()"
   ]
  },
  {
   "cell_type": "code",
   "execution_count": null,
   "metadata": {
    "id": "SfayGTTu73ig"
   },
   "outputs": [],
   "source": [
    "\n",
    "print(\"\\nStatistical Summary (Playoffs):\")\n",
    "playoffs_df.describe()"
   ]
  },
  {
   "cell_type": "markdown",
   "metadata": {
    "id": "CASSfexP8fUc"
   },
   "source": [
    "**Cleaning some Data**"
   ]
  },
  {
   "cell_type": "code",
   "execution_count": null,
   "metadata": {
    "id": "mQS3dmEF8idl"
   },
   "outputs": [],
   "source": [
    "# Dropping any rows with missing values (if necessary)\n",
    "regular_season_df = regular_season_df.dropna()\n",
    "playoffs_df = playoffs_df.dropna()\n",
    "\n",
    "# Rename columns if needed (for easier access)\n",
    "regular_season_df.rename(columns={'Tm': 'Team','PTS': 'Points', 'TRB': 'Rebounds', 'AST': 'Assists'}, inplace=True)\n",
    "playoffs_df.rename(columns={'Tm': 'Team','PTS': 'Points', 'TRB': 'Rebounds', 'AST': 'Assists'}, inplace=True)\n",
    "\n",
    "print(\"Updated Regular Season Columns:\")\n",
    "print(regular_season_df.columns)\n",
    "\n",
    "print(\"\\nUpdated Playoff Columns:\")\n",
    "print(playoffs_df.columns)\n"
   ]
  },
  {
   "cell_type": "code",
   "execution_count": null,
   "metadata": {
    "id": "dQkCla_r-QE5"
   },
   "outputs": [],
   "source": []
  },
  {
   "cell_type": "markdown",
   "metadata": {
    "id": "7Px6kyqn8oxH"
   },
   "source": [
    "**Data Analysis & Manipulation**"
   ]
  },
  {
   "cell_type": "code",
   "execution_count": null,
   "metadata": {
    "id": "VzXiCtny8xAg"
   },
   "outputs": [],
   "source": [
    "# Top 10 players with the most points in the regular season\n",
    "top_scorers_regular = regular_season_df[['Player', 'Points']].sort_values(by='Points', ascending=False).head(10)\n",
    "print(\"Top 10 Regular Season Scorers:\")\n",
    "top_scorers_regular\n",
    "\n",
    "# Top 10 players with the most points in the playoffs\n",
    "top_scorers_playoffs = playoffs_df[['Player', 'Points']].sort_values(by='Points', ascending=False).head(10)\n",
    "print(\"Top 10 Playoff Scorers:\")\n",
    "top_scorers_playoffs\n",
    "\n",
    "# Grouping the data by 'Team' and calculating the average stats for each team\n",
    "team_avg_stats_regular = regular_season_df.groupby('Team')[['Points', 'Rebounds', 'Assists']].mean().reset_index()\n",
    "print(\"\\nAverage Team Stats (Regular Season):\")\n",
    "team_avg_stats_regular\n",
    "\n",
    "# Similarly for playoffs\n",
    "team_avg_stats_playoffs = playoffs_df.groupby('Team')[['Points', 'Rebounds', 'Assists']].mean().reset_index()\n",
    "print(\"\\nAverage Team Stats (Playoffs):\")\n",
    "team_avg_stats_playoffs\n"
   ]
  },
  {
   "cell_type": "code",
   "execution_count": null,
   "metadata": {
    "id": "eM8u9Ye-86w9"
   },
   "outputs": [],
   "source": [
    "# Import visualization libraries\n",
    "import matplotlib.pyplot as plt\n",
    "import seaborn as sns\n",
    "\n",
    "# Set the style for the plots\n",
    "sns.set(style=\"whitegrid\")\n",
    "\n",
    "# Plot a bar chart of the top 10 regular season scorers\n",
    "plt.figure(figsize=(10,6))\n",
    "sns.barplot(x='Points', y='Player', data=top_scorers_regular)\n",
    "plt.title('Top 10 Regular Season Scorers')\n",
    "plt.show()\n",
    "\n",
    "# Plot a bar chart of the top 10 playoff scorers\n",
    "plt.figure(figsize=(10,6))\n",
    "sns.barplot(x='Points', y='Player', data=top_scorers_playoffs)\n",
    "plt.title('Top 10 Playoff Scorers')\n",
    "plt.show()\n",
    "\n",
    "# Plot a comparison of average team stats (Points, Rebounds, Assists) between regular season and playoffs\n",
    "plt.figure(figsize=(12,8))\n",
    "team_avg_stats = pd.merge(team_avg_stats_regular, team_avg_stats_playoffs, on='Team', suffixes=('_Regular', '_Playoffs'))\n",
    "\n",
    "# Plot average points for regular season and playoffs\n",
    "sns.barplot(x='Points_Regular', y='Team', data=team_avg_stats, color=\"b\", label=\"Regular Season\")\n",
    "sns.barplot(x='Points_Playoffs', y='Team', data=team_avg_stats, color=\"r\", label=\"Playoffs\")\n",
    "plt.title('Average Points per Team: Regular Season vs Playoffs')\n",
    "plt.legend()\n",
    "plt.show()\n"
   ]
  },
  {
   "cell_type": "markdown",
   "metadata": {
    "id": "CmHaIzH7CKfw"
   },
   "source": [
    "**Exercises**\n",
    "Exercise 1: Top 10 Rebounders\n",
    "\n",
    "Write code to display the top 10 players with the most rebounds in both the regular season and playoffs.\n"
   ]
  },
  {
   "cell_type": "code",
   "execution_count": null,
   "metadata": {
    "id": "MQMOsMLTCXON"
   },
   "outputs": [],
   "source": []
  },
  {
   "cell_type": "markdown",
   "metadata": {
    "id": "5tNQir-qCYZ3"
   },
   "source": [
    "**Exercise 2: Assists Leader by Team**\n",
    "\n",
    "Group the data by team and calculate which player on each team has the most assists for both the regular season and playoffs"
   ]
  },
  {
   "cell_type": "code",
   "execution_count": null,
   "metadata": {
    "id": "Kn6U4boaCYIf"
   },
   "outputs": [],
   "source": []
  },
  {
   "cell_type": "markdown",
   "metadata": {
    "id": "ntlT3CFkCgKf"
   },
   "source": [
    "**Exercise 3: Visualize Rebounds per Team** (optional)\n",
    "Create a visualization that compares the average rebounds per team for the regular season and playoffs. Which team saw the biggest increase or decrease?"
   ]
  },
  {
   "cell_type": "code",
   "execution_count": null,
   "metadata": {
    "id": "wK_AG7Z-CuhN"
   },
   "outputs": [],
   "source": []
  }
 ],
 "metadata": {
  "colab": {
   "authorship_tag": "ABX9TyOZvGnOY1W9R2tvlinUeBg6",
   "include_colab_link": true,
   "provenance": []
  },
  "kernelspec": {
   "display_name": "Python 3 (ipykernel)",
   "language": "python",
   "name": "python3"
  },
  "language_info": {
   "codemirror_mode": {
    "name": "ipython",
    "version": 3
   },
   "file_extension": ".py",
   "mimetype": "text/x-python",
   "name": "python",
   "nbconvert_exporter": "python",
   "pygments_lexer": "ipython3",
   "version": "3.11.9"
  }
 },
 "nbformat": 4,
 "nbformat_minor": 4
}
