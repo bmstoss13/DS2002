{
 "cells": [
  {
   "cell_type": "markdown",
   "id": "91ecc4ed",
   "metadata": {
    "colab_type": "text",
    "id": "view-in-github"
   },
   "source": [
    "<a href=\"https://colab.research.google.com/github/fourfeatherz/DS2002F24/blob/main/Labs%5CUniversities_and_Stock_API_Workshop.ipynb\" target=\"_parent\"><img src=\"https://colab.research.google.com/assets/colab-badge.svg\" alt=\"Open In Colab\"/></a>"
   ]
  },
  {
   "cell_type": "markdown",
   "id": "YHwTFoDB04MH",
   "metadata": {
    "id": "YHwTFoDB04MH"
   },
   "source": [
    "# Using API Calls in Python with JSON and DataFrames - University Data Example\n",
    "In this notebook, we will make API requests to the Hipolabs Universities API, parse the JSON response, and convert it into Pandas DataFrames for analysis and visualization."
   ]
  },
  {
   "cell_type": "markdown",
   "id": "CDPNEdDF04MJ",
   "metadata": {
    "id": "CDPNEdDF04MJ"
   },
   "source": [
    "### Step 1: Making the API Call to Fetch University Data"
   ]
  },
  {
   "cell_type": "code",
   "execution_count": null,
   "id": "pY6qqMVA04MJ",
   "metadata": {
    "id": "pY6qqMVA04MJ"
   },
   "outputs": [],
   "source": [
    "import requests\n",
    "import json\n",
    "import pandas as pd\n",
    "\n",
    "# API endpoint for fetching universities\n",
    "url = \"http://universities.hipolabs.com/search?country=United%20States\"\n",
    "\n",
    "# Make the GET request\n",
    "response = requests.get(url)\n",
    "\n",
    "# Check the status code\n",
    "if response.status_code == 200:\n",
    "    print(\"API request successful!\")\n",
    "else:\n",
    "    print(f\"Failed to retrieve data: {response.status_code}\")"
   ]
  },
  {
   "cell_type": "markdown",
   "id": "N7564Ydt04MK",
   "metadata": {
    "id": "N7564Ydt04MK"
   },
   "source": [
    "### Step 2: Parsing the JSON Response"
   ]
  },
  {
   "cell_type": "code",
   "execution_count": null,
   "id": "VnNhC0LN04MK",
   "metadata": {
    "id": "VnNhC0LN04MK"
   },
   "outputs": [],
   "source": [
    "# Parse the JSON response\n",
    "university_data = response.json()\n",
    "\n",
    "# Pretty-print the first university\n",
    "print(json.dumps(university_data[0], indent=2))"
   ]
  },
  {
   "cell_type": "markdown",
   "id": "LpvYuFhm04MK",
   "metadata": {
    "id": "LpvYuFhm04MK"
   },
   "source": [
    "### Step 3: Converting the JSON Data to a DataFrame"
   ]
  },
  {
   "cell_type": "code",
   "execution_count": null,
   "id": "6TXNwd7L04MK",
   "metadata": {
    "id": "6TXNwd7L04MK"
   },
   "outputs": [],
   "source": [
    "# Convert JSON data to a DataFrame\n",
    "df = pd.DataFrame(university_data)\n",
    "\n",
    "# Display the first few rows of the DataFrame\n",
    "print(df.head())\n",
    "df"
   ]
  },
  {
   "cell_type": "markdown",
   "id": "u_DHkVg004ML",
   "metadata": {
    "id": "u_DHkVg004ML"
   },
   "source": [
    "### Step 4: Basic Data Analysis"
   ]
  },
  {
   "cell_type": "code",
   "execution_count": null,
   "id": "ovs5UIKs04ML",
   "metadata": {
    "id": "ovs5UIKs04ML"
   },
   "outputs": [],
   "source": [
    "# Count the number of universities by state\n",
    "state_counts = df['state-province'].value_counts()\n",
    "print(state_counts)"
   ]
  },
  {
   "cell_type": "markdown",
   "id": "cAPYEMN304ML",
   "metadata": {
    "id": "cAPYEMN304ML"
   },
   "source": [
    "### Step 5: Data Visualization"
   ]
  },
  {
   "cell_type": "code",
   "execution_count": null,
   "id": "g7yUOl-804ML",
   "metadata": {
    "id": "g7yUOl-804ML"
   },
   "outputs": [],
   "source": [
    "import matplotlib.pyplot as plt\n",
    "\n",
    "# Plot the number of universities per state\n",
    "state_counts.plot(kind='bar', figsize=(10, 6))\n",
    "plt.title(\"Number of Universities per State\")\n",
    "plt.xlabel(\"State\")\n",
    "plt.ylabel(\"Number of Universities\")\n",
    "plt.show()"
   ]
  },
  {
   "cell_type": "markdown",
   "id": "WhSWvUWS04ML",
   "metadata": {
    "id": "WhSWvUWS04ML"
   },
   "source": [
    "### Step 6: Extending to Multiple Countries"
   ]
  },
  {
   "cell_type": "code",
   "execution_count": null,
   "id": "ctTMYEJp04ML",
   "metadata": {
    "id": "ctTMYEJp04ML"
   },
   "outputs": [],
   "source": [
    "countries = [\"United States\", \"Canada\", \"Australia\", \"United Kingdom\"]\n",
    "university_list = []\n",
    "\n",
    "for country in countries:\n",
    "    response = requests.get(f\"http://universities.hipolabs.com/search?country={country}\")\n",
    "    data = response.json()\n",
    "\n",
    "    for uni in data:\n",
    "        uni['country'] = country\n",
    "        university_list.append(uni)\n",
    "\n",
    "# Convert to DataFrame\n",
    "df_universities = pd.DataFrame(university_list)\n",
    "\n",
    "# Display the first few rows\n",
    "print(df_universities.head())"
   ]
  },
  {
   "cell_type": "markdown",
   "id": "PIgW1_1p04ML",
   "metadata": {
    "id": "PIgW1_1p04ML"
   },
   "source": [
    "### Step 7: Visualizing University Counts by Country"
   ]
  },
  {
   "cell_type": "code",
   "execution_count": null,
   "id": "TLQPcYvY04ML",
   "metadata": {
    "id": "TLQPcYvY04ML"
   },
   "outputs": [],
   "source": [
    "# Count the number of universities per country\n",
    "country_counts = df_universities['country'].value_counts()\n",
    "\n",
    "# Plot the data\n",
    "country_counts.plot(kind='bar', figsize=(10, 6))\n",
    "plt.title(\"Number of Universities per Country\")\n",
    "plt.xlabel(\"Country\")\n",
    "plt.ylabel(\"Number of Universities\")\n",
    "plt.show()"
   ]
  },
  {
   "cell_type": "markdown",
   "id": "b-dBnRNT1MQF",
   "metadata": {
    "id": "b-dBnRNT1MQF"
   },
   "source": [
    "###Step 8: Customizing the Workshop\n",
    "\n",
    "You can experiment further by:\n",
    "\n",
    "\n",
    "\n",
    "*   Fetching data for specific regions.\n",
    "*   Analyzing other attributes such as university domains.\n",
    "*   Creating visualizations to compare universities in different regions.\n",
    "\n"
   ]
  },
  {
   "cell_type": "markdown",
   "id": "iwD_LJNy2L7u",
   "metadata": {
    "id": "iwD_LJNy2L7u"
   },
   "source": [
    "For the followig you will need to get your API key from  https://financeapi.net/\n",
    "Examine the demo page and sample data to be returned"
   ]
  },
  {
   "cell_type": "code",
   "execution_count": null,
   "id": "80xOdsHQ2SzU",
   "metadata": {
    "id": "80xOdsHQ2SzU"
   },
   "outputs": [],
   "source": [
    "import json\n",
    "import pandas as pd\n",
    "import json\n",
    "import requests"
   ]
  },
  {
   "cell_type": "code",
   "execution_count": null,
   "id": "qdoW9lbM2Wes",
   "metadata": {
    "id": "qdoW9lbM2Wes"
   },
   "outputs": [],
   "source": [
    "stocks=input(\"Enter a list of stocks separated by commas\").split(',')\n",
    "stocks = [stock.strip() for stock in stocks]"
   ]
  },
  {
   "cell_type": "code",
   "execution_count": null,
   "id": "Jb5ddkbl2YWF",
   "metadata": {
    "id": "Jb5ddkbl2YWF"
   },
   "outputs": [],
   "source": [
    "print(\"The stocks we will research are:\", ', '.join(stocks))"
   ]
  },
  {
   "cell_type": "code",
   "execution_count": null,
   "id": "pFKgjZlO2atU",
   "metadata": {
    "id": "pFKgjZlO2atU"
   },
   "outputs": [],
   "source": [
    "apikey=\"HWwpGorvXv6T5R8GzkjIB8C55Nqw0OGq5ic18fAj\"\n",
    "\n",
    "url = \"https://yfapi.net/v6/finance/quote\"\n",
    "\n",
    "querystring = {\"symbols\": ','.join(stocks)}\n",
    "\n",
    "headers = {\n",
    "    'x-api-key': apikey\n",
    "    }\n",
    "\n",
    "response = requests.request(\"GET\", url, headers=headers, params=querystring)\n",
    "\n",
    "if response.status_code == 200:\n",
    "    print(\"API request successful!\")\n",
    "else:\n",
    "    print(f\"Failed to retrieve data: {response.status_code}\")\n",
    "    exit()\n",
    "\n"
   ]
  },
  {
   "cell_type": "code",
   "execution_count": null,
   "id": "SVJqBY7y2eSs",
   "metadata": {
    "id": "SVJqBY7y2eSs"
   },
   "outputs": [],
   "source": [
    "stock_data = response.json()\n",
    "\n",
    "if stock_data['quoteResponse']['result']:\n",
    "    for stock in stock_data['quoteResponse']['result']:\n",
    "        name = stock.get(\"longName\", \"N/A\")\n",
    "        price = stock.get(\"regularMarketPrice\", \"N/A\")\n",
    "        print(f\"{name} Price: ${price}\")\n",
    "else:\n",
    "    print(\"No data found for the entered stocks.\")"
   ]
  },
  {
   "cell_type": "markdown",
   "id": "9sqZZPI12leh",
   "metadata": {
    "id": "9sqZZPI12leh"
   },
   "source": [
    "Ask the user for a list of stocks and pass that answer back to the user\n"
   ]
  }
 ],
 "metadata": {
  "colab": {
   "include_colab_link": true,
   "provenance": []
  },
  "kernelspec": {
   "display_name": "Python 3 (ipykernel)",
   "language": "python",
   "name": "python3"
  },
  "language_info": {
   "codemirror_mode": {
    "name": "ipython",
    "version": 3
   },
   "file_extension": ".py",
   "mimetype": "text/x-python",
   "name": "python",
   "nbconvert_exporter": "python",
   "pygments_lexer": "ipython3",
   "version": "3.11.9"
  }
 },
 "nbformat": 4,
 "nbformat_minor": 5
}
