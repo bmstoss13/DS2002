{
 "cells": [
  {
   "cell_type": "code",
   "execution_count": 1,
   "id": "a2ed687d-b438-47f2-9a68-ff60c29de9a4",
   "metadata": {},
   "outputs": [],
   "source": [
    "import sqlite3\n",
    "\n",
    "conn = sqlite3.connect('student_grades.db')\n",
    "\n",
    "cursor = conn.cursor()\n"
   ]
  },
  {
   "cell_type": "code",
   "execution_count": 2,
   "id": "aff63ce8-6b45-4849-9acd-42f636970749",
   "metadata": {},
   "outputs": [],
   "source": [
    "cursor.execute('''\n",
    "CREATE TABLE IF NOT EXISTS students (\n",
    "    student_id INTEGER PRIMARY KEY AUTOINCREMENT,\n",
    "    first_name TEXT,\n",
    "    last_name TEXT\n",
    ")\n",
    "''')\n",
    "\n",
    "cursor.execute('''\n",
    "CREATE TABLE IF NOT EXISTS grades (\n",
    "    grade_id INTEGER PRIMARY KEY AUTOINCREMENT,\n",
    "    student_id INTEGER,\n",
    "    subject TEXT,\n",
    "    grade INTEGER,\n",
    "    FOREIGN KEY(student_id) REFERENCES students(student_id)\n",
    ")\n",
    "''')\n",
    "\n",
    "conn.commit()"
   ]
  },
  {
   "cell_type": "code",
   "execution_count": 3,
   "id": "45d01dad-0736-4bfd-9acf-e4824818dcd3",
   "metadata": {},
   "outputs": [],
   "source": [
    "students_data = [\n",
    "    ('Alice', 'Johnson'),\n",
    "    ('Bob', 'Smith'),\n",
    "    ('Carol', 'White'),\n",
    "    ('David', 'Brown'),\n",
    "    ('Eve', 'Davis')\n",
    "]\n",
    "\n",
    "cursor.executemany('''\n",
    "INSERT INTO students (first_name, last_name) VALUES (?, ?)\n",
    "''', students_data)\n",
    "\n",
    "grades_data = [\n",
    "    (1, 'Math', 95),\n",
    "    (1, 'English', 88),\n",
    "    (1, 'History', 90),\n",
    "    (2, 'Math', 82),\n",
    "    (2, 'English', 76),\n",
    "    (2, 'History', 85),\n",
    "    (3, 'Math', 89),\n",
    "    (3, 'English', 92),\n",
    "    (3, 'History', 91),\n",
    "    (4, 'Math', 78),\n",
    "    (4, 'English', 80),\n",
    "    (4, 'History', 82),\n",
    "    (5, 'Math', 92),\n",
    "    (5, 'English', 94),\n",
    "    (5, 'History', 90)\n",
    "]\n",
    "\n",
    "cursor.executemany('''\n",
    "INSERT INTO grades (student_id, subject, grade) VALUES (?, ?, ?)\n",
    "''', grades_data)\n",
    "\n",
    "conn.commit()"
   ]
  },
  {
   "cell_type": "code",
   "execution_count": 4,
   "id": "8d5e9f3c-57f4-48ab-8697-91757160e536",
   "metadata": {},
   "outputs": [
    {
     "name": "stdout",
     "output_type": "stream",
     "text": [
      "('Alice', 'Johnson', 'Math', 95)\n",
      "('Alice', 'Johnson', 'English', 88)\n",
      "('Alice', 'Johnson', 'History', 90)\n",
      "('Bob', 'Smith', 'Math', 82)\n",
      "('Bob', 'Smith', 'English', 76)\n",
      "('Bob', 'Smith', 'History', 85)\n",
      "('Carol', 'White', 'Math', 89)\n",
      "('Carol', 'White', 'English', 92)\n",
      "('Carol', 'White', 'History', 91)\n",
      "('David', 'Brown', 'Math', 78)\n",
      "('David', 'Brown', 'English', 80)\n",
      "('David', 'Brown', 'History', 82)\n",
      "('Eve', 'Davis', 'Math', 92)\n",
      "('Eve', 'Davis', 'English', 94)\n",
      "('Eve', 'Davis', 'History', 90)\n",
      "('Alice', 'Johnson', 'Math', 95)\n",
      "('Alice', 'Johnson', 'English', 88)\n",
      "('Alice', 'Johnson', 'History', 90)\n",
      "('Bob', 'Smith', 'Math', 82)\n",
      "('Bob', 'Smith', 'English', 76)\n",
      "('Bob', 'Smith', 'History', 85)\n",
      "('Carol', 'White', 'Math', 89)\n",
      "('Carol', 'White', 'English', 92)\n",
      "('Carol', 'White', 'History', 91)\n",
      "('David', 'Brown', 'Math', 78)\n",
      "('David', 'Brown', 'English', 80)\n",
      "('David', 'Brown', 'History', 82)\n",
      "('Eve', 'Davis', 'Math', 92)\n",
      "('Eve', 'Davis', 'English', 94)\n",
      "('Eve', 'Davis', 'History', 90)\n",
      "('Alice', 'Johnson', 'Math', 95)\n",
      "('Alice', 'Johnson', 'English', 88)\n",
      "('Alice', 'Johnson', 'History', 90)\n",
      "('Bob', 'Smith', 'Math', 82)\n",
      "('Bob', 'Smith', 'English', 76)\n",
      "('Bob', 'Smith', 'History', 85)\n",
      "('Carol', 'White', 'Math', 89)\n",
      "('Carol', 'White', 'English', 92)\n",
      "('Carol', 'White', 'History', 91)\n",
      "('David', 'Brown', 'Math', 78)\n",
      "('David', 'Brown', 'English', 80)\n",
      "('David', 'Brown', 'History', 82)\n",
      "('Eve', 'Davis', 'Math', 92)\n",
      "('Eve', 'Davis', 'English', 94)\n",
      "('Eve', 'Davis', 'History', 90)\n",
      "('Alice', 'Johnson', 'Math', 95)\n",
      "('Alice', 'Johnson', 'English', 88)\n",
      "('Alice', 'Johnson', 'History', 90)\n",
      "('Bob', 'Smith', 'Math', 82)\n",
      "('Bob', 'Smith', 'English', 76)\n",
      "('Bob', 'Smith', 'History', 85)\n",
      "('Carol', 'White', 'Math', 89)\n",
      "('Carol', 'White', 'English', 92)\n",
      "('Carol', 'White', 'History', 91)\n",
      "('David', 'Brown', 'Math', 78)\n",
      "('David', 'Brown', 'English', 80)\n",
      "('David', 'Brown', 'History', 82)\n",
      "('Eve', 'Davis', 'Math', 92)\n",
      "('Eve', 'Davis', 'English', 94)\n",
      "('Eve', 'Davis', 'History', 90)\n",
      "('Alice', 'Johnson', 'Math', 95)\n",
      "('Alice', 'Johnson', 'English', 88)\n",
      "('Alice', 'Johnson', 'History', 90)\n",
      "('Bob', 'Smith', 'Math', 82)\n",
      "('Bob', 'Smith', 'English', 76)\n",
      "('Bob', 'Smith', 'History', 85)\n",
      "('Carol', 'White', 'Math', 89)\n",
      "('Carol', 'White', 'English', 92)\n",
      "('Carol', 'White', 'History', 91)\n",
      "('David', 'Brown', 'Math', 78)\n",
      "('David', 'Brown', 'English', 80)\n",
      "('David', 'Brown', 'History', 82)\n",
      "('Eve', 'Davis', 'Math', 92)\n",
      "('Eve', 'Davis', 'English', 94)\n",
      "('Eve', 'Davis', 'History', 90)\n"
     ]
    }
   ],
   "source": [
    "cursor.execute('''\n",
    "SELECT students.first_name, students.last_name, grades.subject, grades.grade \n",
    "FROM students\n",
    "JOIN grades ON students.student_id = grades.student_id\n",
    "''')\n",
    "\n",
    "results = cursor.fetchall()\n",
    "for row in results:\n",
    "    print(row)\n"
   ]
  },
  {
   "cell_type": "code",
   "execution_count": 5,
   "id": "a4c9ec13-69fd-46f4-ab8f-70c388e3c3d6",
   "metadata": {},
   "outputs": [
    {
     "name": "stdout",
     "output_type": "stream",
     "text": [
      "('Alice', 'Johnson', 91.0)\n",
      "('Bob', 'Smith', 81.0)\n",
      "('Carol', 'White', 90.66666666666667)\n",
      "('David', 'Brown', 80.0)\n",
      "('Eve', 'Davis', 92.0)\n"
     ]
    }
   ],
   "source": [
    "cursor.execute('''\n",
    "SELECT students.first_name, students.last_name, AVG(grades.grade) \n",
    "FROM students\n",
    "JOIN grades ON students.student_id = grades.student_id\n",
    "GROUP BY students.student_id\n",
    "''')\n",
    "\n",
    "avg_grades = cursor.fetchall()\n",
    "for row in avg_grades:\n",
    "    print(row)\n"
   ]
  },
  {
   "cell_type": "code",
   "execution_count": 6,
   "id": "8dac70cd-74ca-4e74-8df6-e6dfea918730",
   "metadata": {},
   "outputs": [
    {
     "name": "stdout",
     "output_type": "stream",
     "text": [
      "('Eve', 'Davis', 92.0)\n"
     ]
    }
   ],
   "source": [
    "cursor.execute('''\n",
    "SELECT students.first_name, students.last_name, AVG(grades.grade) as avg_grade \n",
    "FROM students\n",
    "JOIN grades ON students.student_id = grades.student_id\n",
    "GROUP BY students.student_id\n",
    "ORDER BY avg_grade DESC\n",
    "LIMIT 1\n",
    "''')\n",
    "\n",
    "highest_avg = cursor.fetchone()\n",
    "print(highest_avg)\n"
   ]
  },
  {
   "cell_type": "code",
   "execution_count": 7,
   "id": "9450985c-c32c-4077-b80d-d09715d2ad7c",
   "metadata": {},
   "outputs": [
    {
     "name": "stdout",
     "output_type": "stream",
     "text": [
      "(87.2,)\n"
     ]
    }
   ],
   "source": [
    "cursor.execute('''\n",
    "SELECT AVG(grade) \n",
    "FROM grades\n",
    "WHERE subject = 'Math'\n",
    "''')\n",
    "\n",
    "math_avg = cursor.fetchone()\n",
    "print(math_avg)\n"
   ]
  },
  {
   "cell_type": "code",
   "execution_count": 8,
   "id": "27182898-99e7-437b-9f3d-85e3373c501e",
   "metadata": {},
   "outputs": [
    {
     "name": "stdout",
     "output_type": "stream",
     "text": [
      "('Alice', 'Johnson', 'Math', 95)\n",
      "('Carol', 'White', 'English', 92)\n",
      "('Carol', 'White', 'History', 91)\n",
      "('Eve', 'Davis', 'Math', 92)\n",
      "('Eve', 'Davis', 'English', 94)\n",
      "('Alice', 'Johnson', 'Math', 95)\n",
      "('Carol', 'White', 'English', 92)\n",
      "('Carol', 'White', 'History', 91)\n",
      "('Eve', 'Davis', 'Math', 92)\n",
      "('Eve', 'Davis', 'English', 94)\n",
      "('Alice', 'Johnson', 'Math', 95)\n",
      "('Carol', 'White', 'English', 92)\n",
      "('Carol', 'White', 'History', 91)\n",
      "('Eve', 'Davis', 'Math', 92)\n",
      "('Eve', 'Davis', 'English', 94)\n",
      "('Alice', 'Johnson', 'Math', 95)\n",
      "('Carol', 'White', 'English', 92)\n",
      "('Carol', 'White', 'History', 91)\n",
      "('Eve', 'Davis', 'Math', 92)\n",
      "('Eve', 'Davis', 'English', 94)\n",
      "('Alice', 'Johnson', 'Math', 95)\n",
      "('Carol', 'White', 'English', 92)\n",
      "('Carol', 'White', 'History', 91)\n",
      "('Eve', 'Davis', 'Math', 92)\n",
      "('Eve', 'Davis', 'English', 94)\n"
     ]
    }
   ],
   "source": [
    "cursor.execute('''\n",
    "SELECT students.first_name, students.last_name, grades.subject, grades.grade\n",
    "FROM students\n",
    "JOIN grades ON students.student_id = grades.student_id\n",
    "WHERE grades.grade > 90\n",
    "''')\n",
    "\n",
    "high_scorers = cursor.fetchall()\n",
    "for row in high_scorers:\n",
    "    print(row)\n"
   ]
  },
  {
   "cell_type": "code",
   "execution_count": 9,
   "id": "3965fe8d-f5dc-439b-ace3-53addeadbba0",
   "metadata": {},
   "outputs": [
    {
     "name": "stderr",
     "output_type": "stream",
     "text": [
      "\n",
      "[notice] A new release of pip is available: 24.0 -> 24.2\n",
      "[notice] To update, run: C:\\Users\\Brian\\AppData\\Local\\Microsoft\\WindowsApps\\PythonSoftwareFoundation.Python.3.11_qbz5n2kfra8p0\\python.exe -m pip install --upgrade pip\n"
     ]
    },
    {
     "name": "stdout",
     "output_type": "stream",
     "text": [
      "Requirement already satisfied: pandas in c:\\users\\brian\\appdata\\local\\packages\\pythonsoftwarefoundation.python.3.11_qbz5n2kfra8p0\\localcache\\local-packages\\python311\\site-packages (2.2.2)\n",
      "Requirement already satisfied: matplotlib in c:\\users\\brian\\appdata\\local\\packages\\pythonsoftwarefoundation.python.3.11_qbz5n2kfra8p0\\localcache\\local-packages\\python311\\site-packages (3.9.2)\n",
      "Requirement already satisfied: numpy>=1.23.2 in c:\\users\\brian\\appdata\\local\\packages\\pythonsoftwarefoundation.python.3.11_qbz5n2kfra8p0\\localcache\\local-packages\\python311\\site-packages (from pandas) (2.1.1)\n",
      "Requirement already satisfied: python-dateutil>=2.8.2 in c:\\users\\brian\\appdata\\local\\packages\\pythonsoftwarefoundation.python.3.11_qbz5n2kfra8p0\\localcache\\local-packages\\python311\\site-packages (from pandas) (2.9.0.post0)\n",
      "Requirement already satisfied: pytz>=2020.1 in c:\\users\\brian\\appdata\\local\\packages\\pythonsoftwarefoundation.python.3.11_qbz5n2kfra8p0\\localcache\\local-packages\\python311\\site-packages (from pandas) (2024.2)\n",
      "Requirement already satisfied: tzdata>=2022.7 in c:\\users\\brian\\appdata\\local\\packages\\pythonsoftwarefoundation.python.3.11_qbz5n2kfra8p0\\localcache\\local-packages\\python311\\site-packages (from pandas) (2024.1)\n",
      "Requirement already satisfied: contourpy>=1.0.1 in c:\\users\\brian\\appdata\\local\\packages\\pythonsoftwarefoundation.python.3.11_qbz5n2kfra8p0\\localcache\\local-packages\\python311\\site-packages (from matplotlib) (1.3.0)\n",
      "Requirement already satisfied: cycler>=0.10 in c:\\users\\brian\\appdata\\local\\packages\\pythonsoftwarefoundation.python.3.11_qbz5n2kfra8p0\\localcache\\local-packages\\python311\\site-packages (from matplotlib) (0.12.1)\n",
      "Requirement already satisfied: fonttools>=4.22.0 in c:\\users\\brian\\appdata\\local\\packages\\pythonsoftwarefoundation.python.3.11_qbz5n2kfra8p0\\localcache\\local-packages\\python311\\site-packages (from matplotlib) (4.53.1)\n",
      "Requirement already satisfied: kiwisolver>=1.3.1 in c:\\users\\brian\\appdata\\local\\packages\\pythonsoftwarefoundation.python.3.11_qbz5n2kfra8p0\\localcache\\local-packages\\python311\\site-packages (from matplotlib) (1.4.7)\n",
      "Requirement already satisfied: packaging>=20.0 in c:\\users\\brian\\appdata\\local\\packages\\pythonsoftwarefoundation.python.3.11_qbz5n2kfra8p0\\localcache\\local-packages\\python311\\site-packages (from matplotlib) (24.1)\n",
      "Requirement already satisfied: pillow>=8 in c:\\users\\brian\\appdata\\local\\packages\\pythonsoftwarefoundation.python.3.11_qbz5n2kfra8p0\\localcache\\local-packages\\python311\\site-packages (from matplotlib) (10.4.0)\n",
      "Requirement already satisfied: pyparsing>=2.3.1 in c:\\users\\brian\\appdata\\local\\packages\\pythonsoftwarefoundation.python.3.11_qbz5n2kfra8p0\\localcache\\local-packages\\python311\\site-packages (from matplotlib) (3.1.4)\n",
      "Requirement already satisfied: six>=1.5 in c:\\users\\brian\\appdata\\local\\packages\\pythonsoftwarefoundation.python.3.11_qbz5n2kfra8p0\\localcache\\local-packages\\python311\\site-packages (from python-dateutil>=2.8.2->pandas) (1.16.0)\n",
      "   first_name last_name  subject  grade\n",
      "0       Alice   Johnson     Math     95\n",
      "1       Alice   Johnson  English     88\n",
      "2       Alice   Johnson  History     90\n",
      "3         Bob     Smith     Math     82\n",
      "4         Bob     Smith  English     76\n",
      "..        ...       ...      ...    ...\n",
      "70      David     Brown  English     80\n",
      "71      David     Brown  History     82\n",
      "72        Eve     Davis     Math     92\n",
      "73        Eve     Davis  English     94\n",
      "74        Eve     Davis  History     90\n",
      "\n",
      "[75 rows x 4 columns]\n"
     ]
    },
    {
     "data": {
      "image/png": "[encoded data removed]",
      "text/plain": [
       "<Figure size 640x480 with 1 Axes>"
      ]
     },
     "metadata": {},
     "output_type": "display_data"
    },
    {
     "data": {
      "image/png": "[encoded data removed]",
      "text/plain": [
       "<Figure size 640x480 with 1 Axes>"
      ]
     },
     "metadata": {},
     "output_type": "display_data"
    }
   ],
   "source": [
    "!pip install pandas matplotlib\n",
    "\n",
    "import pandas as pd\n",
    "import matplotlib.pyplot as plt\n",
    "\n",
    "# Load data into Pandas DataFrames\n",
    "students_df = pd.read_sql_query('SELECT * FROM students', conn)\n",
    "grades_df = pd.read_sql_query('SELECT * FROM grades', conn)\n",
    "\n",
    "# Merge the two tables\n",
    "merged_df = pd.read_sql_query('''\n",
    "SELECT students.first_name, students.last_name, grades.subject, grades.grade\n",
    "FROM students\n",
    "JOIN grades ON students.student_id = grades.student_id\n",
    "''', conn)\n",
    "\n",
    "print(merged_df)\n",
    "\n",
    "avg_grades_df = merged_df.groupby(['first_name', 'last_name'])['grade'].mean().reset_index()\n",
    "avg_grades_df.plot(kind='bar', x='first_name', y='grade', legend=False)\n",
    "plt.title('Average Grades for Each Student')\n",
    "plt.ylabel('Average Grade')\n",
    "plt.show()\n",
    "\n",
    "subject_avg_df = merged_df.groupby('subject')['grade'].mean().reset_index()\n",
    "subject_avg_df.plot(kind='bar', x='subject', y='grade', legend=False)\n",
    "plt.title('Average Grade for Each Subject')\n",
    "plt.ylabel('Average Grade')\n",
    "plt.show()\n"
   ]
  },
  {
   "cell_type": "code",
   "execution_count": 10,
   "id": "9cff81b8-2f40-46c1-aebf-9573c49572a1",
   "metadata": {},
   "outputs": [
    {
     "name": "stdout",
     "output_type": "stream",
     "text": [
      "('Eve', 'Davis', 'English', 94)\n",
      "('Carol', 'White', 'History', 91)\n",
      "('Alice', 'Johnson', 'Math', 95)\n"
     ]
    },
    {
     "data": {
      "image/png": "[encoded data removed]",
      "text/plain": [
       "<Figure size 640x480 with 1 Axes>"
      ]
     },
     "metadata": {},
     "output_type": "display_data"
    }
   ],
   "source": [
    "cursor.execute('''\n",
    "SELECT students.first_name, students.last_name, grades.subject, MAX(grades.grade) \n",
    "FROM students\n",
    "JOIN grades ON students.student_id = grades.student_id\n",
    "GROUP BY grades.subject\n",
    "''')\n",
    "\n",
    "highest_per_subject = cursor.fetchall()\n",
    "for row in highest_per_subject:\n",
    "    print(row)\n",
    "\n",
    "highest_per_subject_df = pd.DataFrame(highest_per_subject, columns=['first_name', 'last_name', 'subject', 'max_grade'])\n",
    "highest_per_subject_df.pivot(index='subject', columns='first_name', values='max_grade').plot(kind='bar')\n",
    "plt.title('Highest Grade in Each Subject by Student')\n",
    "plt.ylabel('Grade')\n",
    "plt.show()\n"
   ]
  },
  {
   "cell_type": "code",
   "execution_count": 11,
   "id": "b50ca724-1204-4738-acaa-1961078cac7a",
   "metadata": {},
   "outputs": [],
   "source": [
    "cursor.close()\n",
    "conn.close()"
   ]
  }
 ],
 "metadata": {
  "kernelspec": {
   "display_name": "Python 3 (ipykernel)",
   "language": "python",
   "name": "python3"
  },
  "language_info": {
   "codemirror_mode": {
    "name": "ipython",
    "version": 3
   },
   "file_extension": ".py",
   "mimetype": "text/x-python",
   "name": "python",
   "nbconvert_exporter": "python",
   "pygments_lexer": "ipython3",
   "version": "3.11.9"
  }
 },
 "nbformat": 4,
 "nbformat_minor": 5
}
